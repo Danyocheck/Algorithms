{
 "cells": [
  {
   "cell_type": "code",
   "execution_count": 3,
   "metadata": {},
   "outputs": [],
   "source": [
    "import numpy as np\n",
    "\n",
    "def find_similar_user(user_id, M):\n",
    "    user_ratings = M[user_id]\n",
    "    similarities = []\n",
    "    for i, other_user_ratings in enumerate(M):\n",
    "        if i != user_id:\n",
    "            similarity = np.linalg.norm(user_ratings - other_user_ratings)\n",
    "            similarities.append((i, similarity))\n",
    "    most_similar_user_id = min(similarities, key=lambda x: x[1])[0]\n",
    "    return most_similar_user_id\n",
    "\n",
    "def recommend_movie_for_user(user_id, M):\n",
    "    most_similar_user_id = find_similar_user(user_id, M)\n",
    "    max_rating_index = np.argmax(M[most_similar_user_id])\n",
    "    if np.unique(M[most_similar_user_id], return_counts=True)[1][-1] != 1:\n",
    "        return -1\n",
    "    return max_rating_index\n",
    "\n",
    "def find_similar_movie(movie_id, M):\n",
    "    movie_ratings = M[:, movie_id]\n",
    "    similarities = []\n",
    "    for i, other_movie_ratings in enumerate(M.T):\n",
    "        if i != movie_id:\n",
    "            similarity = np.linalg.norm(movie_ratings - other_movie_ratings)\n",
    "            similarities.append((i, similarity))\n",
    "    most_similar_movie_id = min(similarities, key=lambda x: x[1])[0]\n",
    "    return most_similar_movie_id"
   ]
  },
  {
   "cell_type": "code",
   "execution_count": 102,
   "metadata": {},
   "outputs": [],
   "source": [
    "file = open('kinopoisk_input.txt')\n",
    "n, m, q = list(map(int, file.readline().split()))"
   ]
  },
  {
   "cell_type": "code",
   "execution_count": 103,
   "metadata": {},
   "outputs": [],
   "source": [
    "M = np.empty((n, m)) \n",
    "for i in range(n):\n",
    "    M[i] = list(map(int, file.readline().split()))"
   ]
  },
  {
   "cell_type": "code",
   "execution_count": 84,
   "metadata": {},
   "outputs": [
    {
     "name": "stdout",
     "output_type": "stream",
     "text": [
      "[[ 0.          0.          0.         ...  0.          0.\n",
      "   0.        ]\n",
      " [ 4.89897949  0.          0.         ...  0.          0.\n",
      "   0.        ]\n",
      " [ 2.64575131  5.19615242  0.         ...  0.          0.\n",
      "   0.        ]\n",
      " ...\n",
      " [36.85105155 37.25587202 36.91882988 ...  0.          0.\n",
      "   0.        ]\n",
      " [36.95943723 37.36308338 37.02701716 ...  4.          0.\n",
      "   0.        ]\n",
      " [37.21558813 37.6696164  37.28270376 ...  7.41619849  6.40312424\n",
      "   0.        ]]\n"
     ]
    }
   ],
   "source": [
    "similarity_matrix = np.empty((n, n))\n",
    "for i in range(n):\n",
    "    if i > n - 1: break\n",
    "    user_ratings = M[i]\n",
    "    for j in range(i + 1):\n",
    "        similarity_matrix[i][j] = np.linalg.norm(user_ratings - M[j])\n",
    "\n",
    "print(similarity_matrix)"
   ]
  },
  {
   "cell_type": "code",
   "execution_count": 85,
   "metadata": {},
   "outputs": [
    {
     "name": "stdout",
     "output_type": "stream",
     "text": [
      "[[ 0.          4.89897949  2.64575131 ... 36.85105155 36.95943723\n",
      "  37.21558813]\n",
      " [ 4.89897949  0.          5.19615242 ... 37.25587202 37.36308338\n",
      "  37.6696164 ]\n",
      " [ 2.64575131  5.19615242  0.         ... 36.91882988 37.02701716\n",
      "  37.28270376]\n",
      " ...\n",
      " [36.85105155 37.25587202 36.91882988 ...  0.          4.\n",
      "   7.41619849]\n",
      " [36.95943723 37.36308338 37.02701716 ...  4.          0.\n",
      "   6.40312424]\n",
      " [37.21558813 37.6696164  37.28270376 ...  7.41619849  6.40312424\n",
      "   0.        ]]\n"
     ]
    }
   ],
   "source": [
    "for i in range(n):\n",
    "    if i > n - 1: break\n",
    "    for j in range(i + 1):\n",
    "        similarity_matrix[j][i] = similarity_matrix[i][j]\n",
    "\n",
    "print(similarity_matrix)"
   ]
  },
  {
   "cell_type": "code",
   "execution_count": 86,
   "metadata": {},
   "outputs": [
    {
     "name": "stdout",
     "output_type": "stream",
     "text": [
      "[[ 0.          0.          0.         ...  0.          0.\n",
      "   0.        ]\n",
      " [ 4.          0.          0.         ...  0.          0.\n",
      "   0.        ]\n",
      " [ 4.69041576  5.65685425  0.         ...  0.          0.\n",
      "   0.        ]\n",
      " ...\n",
      " [36.05551275 36.35931793 35.665109   ...  0.          0.\n",
      "   0.        ]\n",
      " [36.29049462 36.59234893 35.90264614 ...  3.87298335  0.\n",
      "   0.        ]\n",
      " [36.59234893 36.89173349 36.20773398 ...  5.          5.09901951\n",
      "   0.        ]]\n"
     ]
    }
   ],
   "source": [
    "film_similarity_matrix = np.empty((m, m))\n",
    "for i in range(m):\n",
    "    if i > m - 1: break\n",
    "    user_ratings = M[:, i]\n",
    "    for j in range(i + 1):\n",
    "        film_similarity_matrix[i][j] = np.linalg.norm(user_ratings - M[:, j])\n",
    "\n",
    "print(film_similarity_matrix)"
   ]
  },
  {
   "cell_type": "code",
   "execution_count": 87,
   "metadata": {},
   "outputs": [
    {
     "name": "stdout",
     "output_type": "stream",
     "text": [
      "[[ 0.          4.          4.69041576 ... 36.05551275 36.29049462\n",
      "  36.59234893]\n",
      " [ 4.          0.          5.65685425 ... 36.35931793 36.59234893\n",
      "  36.89173349]\n",
      " [ 4.69041576  5.65685425  0.         ... 35.665109   35.90264614\n",
      "  36.20773398]\n",
      " ...\n",
      " [36.05551275 36.35931793 35.665109   ...  0.          3.87298335\n",
      "   5.        ]\n",
      " [36.29049462 36.59234893 35.90264614 ...  3.87298335  0.\n",
      "   5.09901951]\n",
      " [36.59234893 36.89173349 36.20773398 ...  5.          5.09901951\n",
      "   0.        ]]\n"
     ]
    }
   ],
   "source": [
    "for i in range(m):\n",
    "    if i > m - 1: break\n",
    "    for j in range(i + 1):\n",
    "        film_similarity_matrix[j][i] = film_similarity_matrix[i][j]\n",
    "\n",
    "print(film_similarity_matrix)"
   ]
  },
  {
   "cell_type": "code",
   "execution_count": 88,
   "metadata": {},
   "outputs": [],
   "source": [
    "import sys \n",
    "\n",
    "for i in range(n):\n",
    "    similarity_matrix[i][i] = sys.maxsize\n",
    "\n",
    "for i in range(m):\n",
    "    film_similarity_matrix[i][i] = sys.maxsize"
   ]
  },
  {
   "cell_type": "code",
   "execution_count": 104,
   "metadata": {},
   "outputs": [],
   "source": [
    "answer = open('anwer.txt', 'a')\n",
    "\n",
    "for i in range(q):\n",
    "    letter, num = file.readline().split()\n",
    "    if letter == 'u':\n",
    "        most_similar_user_id = np.argmin(similarity_matrix[int(num) - 1])\n",
    "        if np.unique(M[most_similar_user_id], return_counts=True)[1][-1] != 1:\n",
    "            print(\"-1\", file=answer)\n",
    "        else:\n",
    "            print(np.where(M[39] == 6)[0][0] + 1, file=answer, sep=' ')\n",
    "    else:\n",
    "        print(np.argmin(film_similarity_matrix[int(num) - 1]) + 1, file=answer)"
   ]
  },
  {
   "cell_type": "code",
   "execution_count": 93,
   "metadata": {},
   "outputs": [
    {
     "data": {
      "text/plain": [
       "6.0"
      ]
     },
     "execution_count": 93,
     "metadata": {},
     "output_type": "execute_result"
    }
   ],
   "source": [
    "np.unique(M[39], return_counts=True)[0][-1]"
   ]
  },
  {
   "cell_type": "code",
   "execution_count": 98,
   "metadata": {},
   "outputs": [
    {
     "data": {
      "text/plain": [
       "1420"
      ]
     },
     "execution_count": 98,
     "metadata": {},
     "output_type": "execute_result"
    }
   ],
   "source": [
    "np.where(M[39] == 6)[0][0] + 1"
   ]
  },
  {
   "cell_type": "code",
   "execution_count": null,
   "metadata": {},
   "outputs": [],
   "source": []
  }
 ],
 "metadata": {
  "kernelspec": {
   "display_name": "Python 3.11.0 64-bit",
   "language": "python",
   "name": "python3"
  },
  "language_info": {
   "codemirror_mode": {
    "name": "ipython",
    "version": 3
   },
   "file_extension": ".py",
   "mimetype": "text/x-python",
   "name": "python",
   "nbconvert_exporter": "python",
   "pygments_lexer": "ipython3",
   "version": "3.11.0"
  },
  "orig_nbformat": 4,
  "vscode": {
   "interpreter": {
    "hash": "aee8b7b246df8f9039afb4144a1f6fd8d2ca17a180786b69acc140d282b71a49"
   }
  }
 },
 "nbformat": 4,
 "nbformat_minor": 2
}
